{
 "cells": [
  {
   "cell_type": "markdown",
   "metadata": {},
   "source": [
    "# Get a token"
   ]
  },
  {
   "cell_type": "code",
   "execution_count": 57,
   "metadata": {},
   "outputs": [],
   "source": [
    "import json\n",
    "import requests\n",
    "\n",
    "api_url = \"https://api.trends.earth\"\n",
    "creds = {\"email\" : \"USERNAME_HERE\", \"password\" : \"PASSWORD_HERE\"}\n",
    "auth_url = api_url + \"/auth\"\n",
    "\n",
    "auth_resp = requests.post(auth_url, json=creds)\n",
    "if auth_resp.status_code == 200:\n",
    "    headers = {'Authorization': 'Bearer {}'.format(auth_resp.json()['access_token'])}\n",
    "else:\n",
    "    print(\"Error logging in.\")"
   ]
  },
  {
   "cell_type": "markdown",
   "metadata": {},
   "source": [
    "# Run a script"
   ]
  },
  {
   "cell_type": "code",
   "execution_count": 73,
   "metadata": {},
   "outputs": [
    {
     "name": "stdout",
     "output_type": "stream",
     "text": [
      "<Response [200]>\n",
      "{'data': {'end_date': '2020-03-03T22:32:43.947533', 'id': '1906a558-d95e-480d-9f15-aa0cdce6516e', 'params': {'crs': 'GEOGCS[\"WGS 84\",DATUM[\"WGS_1984\",SPHEROID[\"WGS 84\",6378137,298.257223563,AUTHORITY[\"EPSG\",\"7030\"]],AUTHORITY[\"EPSG\",\"6326\"]],PRIMEM[\"Greenwich\",0,AUTHORITY[\"EPSG\",\"8901\"]],UNIT[\"degree\",0.0174532925199433,AUTHORITY[\"EPSG\",\"9122\"]],AUTHORITY[\"EPSG\",\"4326\"]]', 'geojsons': '[{\"type\": \"Point\", \"coordinates\": [85.31537829, 27.71900699]}]', 'ndvi_gee_dataset': 'users/geflanddegradation/toolbox_datasets/ndvi_modis_2001_2018', 'year_end': 2015, 'year_start': 2001}, 'progress': 0, 'results': {}, 'script_id': 'f66ce5df-314d-42a1-a3a8-2e03741af1fa', 'start_date': '2020-03-03T22:32:43.947528', 'status': 'PENDING', 'user_id': '8510f787-60ae-4650-8c9e-a824e417386e'}}\n"
     ]
    }
   ],
   "source": [
    "payload = {\n",
    "    \"year_start\": 2001,\n",
    "    \"year_end\": 2015,\n",
    "    \"crs\": \"GEOGCS[\\\"WGS 84\\\",DATUM[\\\"WGS_1984\\\",SPHEROID[\\\"WGS 84\\\",6378137,298.257223563,AUTHORITY[\\\"EPSG\\\",\\\"7030\\\"]],AUTHORITY[\\\"EPSG\\\",\\\"6326\\\"]],PRIMEM[\\\"Greenwich\\\",0,AUTHORITY[\\\"EPSG\\\",\\\"8901\\\"]],UNIT[\\\"degree\\\",0.0174532925199433,AUTHORITY[\\\"EPSG\\\",\\\"9122\\\"]],AUTHORITY[\\\"EPSG\\\",\\\"4326\\\"]]\",\n",
    "    \"geojsons\": \"[{\\\"type\\\": \\\"Point\\\", \\\"coordinates\\\": [85.31537829, 27.71900699]}]\",\n",
    "    \"ndvi_gee_dataset\": \"users/geflanddegradation/toolbox_datasets/ndvi_modis_2001_2018\"\n",
    "}\n",
    "resp_run = requests.post(api_url + '/api/v1/script/time-series-0-68/run', headers=headers, json=payload)\n",
    "print(resp_run)\n",
    "print(resp_run.json())"
   ]
  },
  {
   "cell_type": "markdown",
   "metadata": {},
   "source": [
    "# Get the status of that task (and any results if available)"
   ]
  },
  {
   "cell_type": "code",
   "execution_count": 77,
   "metadata": {},
   "outputs": [
    {
     "name": "stdout",
     "output_type": "stream",
     "text": [
      "<Response [200]>\n",
      "{'data': {'end_date': '2020-03-03T22:32:46.207716', 'id': '1906a558-d95e-480d-9f15-aa0cdce6516e', 'params': {'crs': 'GEOGCS[\"WGS 84\",DATUM[\"WGS_1984\",SPHEROID[\"WGS 84\",6378137,298.257223563,AUTHORITY[\"EPSG\",\"7030\"]],AUTHORITY[\"EPSG\",\"6326\"]],PRIMEM[\"Greenwich\",0,AUTHORITY[\"EPSG\",\"8901\"]],UNIT[\"degree\",0.0174532925199433,AUTHORITY[\"EPSG\",\"9122\"]],AUTHORITY[\"EPSG\",\"4326\"]]', 'geojsons': '[{\"type\": \"Point\", \"coordinates\": [85.31537829, 27.71900699]}]', 'ndvi_gee_dataset': 'users/geflanddegradation/toolbox_datasets/ndvi_modis_2001_2018', 'year_end': 2015, 'year_start': 2001}, 'progress': 100, 'results': {'name': 'timeseries', 'table': [{'name': 'max', 'time': [2001.0, 2002.0, 2003.0, 2004.0, 2005.0, 2006.0, 2007.0, 2008.0, 2009.0, 2010.0, 2011.0, 2012.0, 2013.0, 2014.0, 2015.0, 2016.0, 2017.0, 2018.0], 'y': [3515.0, 3367.0, 3133.0, 3049.0, 3148.0, 3397.0, 3117.0, 2989.0, 3004.0, 3083.0, 3155.0, 2841.0, 2697.0, 2796.0, 3041.0, 2669.0, 2758.0, 2873.0]}, {'name': 'mean', 'time': [2001.0, 2002.0, 2003.0, 2004.0, 2005.0, 2006.0, 2007.0, 2008.0, 2009.0, 2010.0, 2011.0, 2012.0, 2013.0, 2014.0, 2015.0, 2016.0, 2017.0, 2018.0], 'y': [3515.0, 3367.0, 3133.0, 3049.0, 3148.0, 3397.0, 3117.0, 2989.0, 3004.0, 3083.0, 3155.0, 2841.0, 2697.0, 2796.0, 3041.0, 2669.0, 2758.0, 2873.0]}, {'name': 'min', 'time': [2001.0, 2002.0, 2003.0, 2004.0, 2005.0, 2006.0, 2007.0, 2008.0, 2009.0, 2010.0, 2011.0, 2012.0, 2013.0, 2014.0, 2015.0, 2016.0, 2017.0, 2018.0], 'y': [3515.0, 3367.0, 3133.0, 3049.0, 3148.0, 3397.0, 3117.0, 2989.0, 3004.0, 3083.0, 3155.0, 2841.0, 2697.0, 2796.0, 3041.0, 2669.0, 2758.0, 2873.0]}, {'name': 'mode', 'time': [2001.0, 2002.0, 2003.0, 2004.0, 2005.0, 2006.0, 2007.0, 2008.0, 2009.0, 2010.0, 2011.0, 2012.0, 2013.0, 2014.0, 2015.0, 2016.0, 2017.0, 2018.0], 'y': [3515.0, 3367.0, 3133.0, 3049.0, 3148.0, 3397.0, 3117.0, 2989.0, 3004.0, 3083.0, 3155.0, 2841.0, 2697.0, 2796.0, 3041.0, 2669.0, 2758.0, 2873.0]}, {'name': 'stdDev', 'time': [2001.0, 2002.0, 2003.0, 2004.0, 2005.0, 2006.0, 2007.0, 2008.0, 2009.0, 2010.0, 2011.0, 2012.0, 2013.0, 2014.0, 2015.0, 2016.0, 2017.0, 2018.0], 'y': [0.0, 0.0, 0.0, 0.0, 0.0, 0.0, 0.0, 0.0, 0.0, 0.0, 0.0, 0.0, 0.0, 0.0, 0.0, 0.0, 0.0, 0.0]}], 'type': 'TimeSeriesTable'}, 'script_id': 'f66ce5df-314d-42a1-a3a8-2e03741af1fa', 'start_date': '2020-03-03T22:32:43.947528', 'status': 'FINISHED', 'user_id': '8510f787-60ae-4650-8c9e-a824e417386e'}}\n"
     ]
    }
   ],
   "source": [
    "resp_exec = requests.get(api_url + '/api/v1/execution/{}'.format(resp_run.json()['data']['id']), headers=headers)\n",
    "print(resp_exec)\n",
    "print(resp_exec.json())"
   ]
  }
 ],
 "metadata": {
  "kernelspec": {
   "display_name": "Python 3",
   "language": "python",
   "name": "python3"
  },
  "language_info": {
   "codemirror_mode": {
    "name": "ipython",
    "version": 3
   },
   "file_extension": ".py",
   "mimetype": "text/x-python",
   "name": "python",
   "nbconvert_exporter": "python",
   "pygments_lexer": "ipython3",
   "version": "3.7.4"
  }
 },
 "nbformat": 4,
 "nbformat_minor": 4
}
